{
 "cells": [
  {
   "metadata": {},
   "cell_type": "markdown",
   "source": "# **网孔(网格)**",
   "id": "76b335df1ff7e3"
  },
  {
   "metadata": {},
   "cell_type": "markdown",
   "source": [
    "多边形网孔（Polygon mesh）是三维计算机图形学中表示多面体形状的顶点与多边形的集合，它也叫作非结构网格。\n",
    "\n",
    "这些网格通常由三角形、四边形或者其它的简单凸多边形组成，这样可以简化渲染过程。但是，网格也可以包括带有空洞的普通多边形组成的物体。"
   ],
   "id": "809b06023d5f4189"
  },
  {
   "metadata": {},
   "cell_type": "markdown",
   "source": "### **读取网孔（Mesh）**",
   "id": "4b00ee493dffa8c2"
  },
  {
   "metadata": {
    "ExecuteTime": {
     "end_time": "2025-03-22T08:22:42.969378Z",
     "start_time": "2025-03-22T08:22:41.770880Z"
    }
   },
   "cell_type": "code",
   "source": [
    "import numpy as np\n",
    "import open3d as o3d"
   ],
   "id": "2304dac12bb789aa",
   "outputs": [
    {
     "name": "stdout",
     "output_type": "stream",
     "text": [
      "Jupyter environment detected. Enabling Open3D WebVisualizer.\n",
      "[Open3D INFO] WebRTC GUI backend enabled.\n",
      "[Open3D INFO] WebRTCWindowSystem: HTTP handshake server disabled.\n"
     ]
    }
   ],
   "execution_count": 1
  },
  {
   "metadata": {},
   "cell_type": "markdown",
   "source": "#### 以下读取两个网孔",
   "id": "9884adf166912d16"
  },
  {
   "metadata": {
    "ExecuteTime": {
     "end_time": "2025-03-22T08:24:48.847145Z",
     "start_time": "2025-03-22T08:24:48.776110Z"
    }
   },
   "cell_type": "code",
   "source": [
    "# 读取网孔\n",
    "armadillo_mesh = o3d.data.ArmadilloMesh()\n",
    "mesh = o3d.io.read_triangle_mesh(armadillo_mesh.path)\n",
    "knot_mesh = o3d.data.KnotMesh()\n",
    "mesh1 = o3d.io.read_triangle_mesh(knot_mesh.path)\n",
    "print(mesh)\n",
    "print('Vertices:')\n",
    "print(np.asarray(mesh.vertices))\n",
    "print('Triangles:')\n",
    "print(np.asarray(mesh.triangles))"
   ],
   "id": "6ef511f23deaa052",
   "outputs": [
    {
     "name": "stdout",
     "output_type": "stream",
     "text": [
      "TriangleMesh with 172974 points and 345944 triangles.\n",
      "Vertices:\n",
      "[[  5.8945775   11.78840065  27.28323936]\n",
      " [-53.32511139  67.10436249 -57.45013046]\n",
      " [  3.75048876  16.50540161  29.45401955]\n",
      " ...\n",
      " [ -0.53707075  -6.22242689  42.90413666]\n",
      " [-49.76054001 -52.08040619   1.24506998]\n",
      " [-57.97610855  62.83114624 -50.2011261 ]]\n",
      "Triangles:\n",
      "[[170671  67345  67377]\n",
      " [ 16306   9985   5355]\n",
      " [ 73048  97544  97343]\n",
      " ...\n",
      " [  2016   2011   1853]\n",
      " [  1854   2009   1692]\n",
      " [  1685   2009   2003]]\n"
     ]
    }
   ],
   "execution_count": 3
  }
 ],
 "metadata": {
  "kernelspec": {
   "display_name": "Python 3",
   "language": "python",
   "name": "python3"
  },
  "language_info": {
   "codemirror_mode": {
    "name": "ipython",
    "version": 2
   },
   "file_extension": ".py",
   "mimetype": "text/x-python",
   "name": "python",
   "nbconvert_exporter": "python",
   "pygments_lexer": "ipython2",
   "version": "2.7.6"
  }
 },
 "nbformat": 4,
 "nbformat_minor": 5
}
