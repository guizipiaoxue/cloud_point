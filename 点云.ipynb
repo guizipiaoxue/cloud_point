{
 "cells": [
  {
   "metadata": {},
   "cell_type": "markdown",
   "source": "# **点云**\n",
   "id": "978b22a210450c43"
  },
  {
   "metadata": {},
   "cell_type": "markdown",
   "source": [
    "### **点云是什么**\n",
    "点云是某个坐标系下的点的数据集。\n",
    "\n",
    "点包含了丰富的信息，包括三维坐标X，Y，Z、颜色、分类值、强度值、时间等等，不一一列举。\n",
    "\n",
    "在我看来点云可以将现实世界原子化，通过高精度的点云数据可以还原现实世界。\n",
    "\n",
    "万物皆点云。"
   ],
   "id": "62b7dc418556de69"
  },
  {
   "metadata": {
    "ExecuteTime": {
     "end_time": "2025-03-22T06:25:57.658494Z",
     "start_time": "2025-03-22T06:25:57.655070Z"
    }
   },
   "cell_type": "code",
   "source": [
    "import open3d as o3d\n",
    "import numpy as np\n",
    "import matplotlib.pyplot as plt"
   ],
   "id": "78a0b9732607f4cd",
   "outputs": [],
   "execution_count": 2
  },
  {
   "metadata": {},
   "cell_type": "markdown",
   "source": "### **读取显示点云（Point Cloud）**",
   "id": "5288bf676ed249e7"
  },
  {
   "metadata": {
    "ExecuteTime": {
     "end_time": "2025-03-22T06:49:25.759683Z",
     "start_time": "2025-03-22T06:49:24.541254Z"
    }
   },
   "cell_type": "code",
   "source": [
    "print(\"Load a ply point cloud, print it, and render it\")\n",
    "ply_point_cloud = o3d.data.PLYPointCloud() # 官方的一个数据\n",
    "pcd = o3d.io.read_point_cloud(ply_point_cloud.path) # 读取点云数据\n",
    "print(pcd)\n",
    "print(np.asarray(pcd.points))\n",
    "# 可视化点云\n",
    "o3d.visualization.draw_geometries([pcd],\n",
    "                                  zoom=0.3412,\n",
    "                                  front=[0.4257, -0.2125, -0.8795],\n",
    "                                  lookat=[2.6172, 2.0475, 1.532],\n",
    "                                  up=[-0.0694, -0.9768, 0.2024]) # 设置相机位置\n"
   ],
   "id": "2db14cff0b3ad07",
   "outputs": [
    {
     "name": "stdout",
     "output_type": "stream",
     "text": [
      "Load a ply point cloud, print it, and render it\n",
      "PointCloud with 196133 points.\n",
      "[[0.65234375 0.84686458 2.37890625]\n",
      " [0.65234375 0.83984375 2.38430572]\n",
      " [0.66737998 0.83984375 2.37890625]\n",
      " ...\n",
      " [2.00839925 2.39453125 1.88671875]\n",
      " [2.00390625 2.39488506 1.88671875]\n",
      " [2.00390625 2.39453125 1.88793314]]\n"
     ]
    }
   ],
   "execution_count": 9
  },
  {
   "metadata": {},
   "cell_type": "markdown",
   "source": [
    "### **体素（Voxel）下采样**\n",
    "点被分桶到体素中。\n",
    "\n",
    "每个被占用的体素通过平均内部的所有点来生成一个点"
   ],
   "id": "6882400ef90d8e43"
  },
  {
   "metadata": {
    "ExecuteTime": {
     "end_time": "2025-03-22T06:49:48.125557Z",
     "start_time": "2025-03-22T06:49:28.319342Z"
    }
   },
   "cell_type": "code",
   "source": [
    "downpcd = pcd.voxel_down_sample(voxel_size=0.05) # voxel_size为采样的半径\n",
    "o3d.visualization.draw_geometries([downpcd],\n",
    "                                  zoom=0.3412,\n",
    "                                  front=[0.4257, -0.2125, -0.8795],\n",
    "                                  lookat=[2.6172, 2.0475, 1.532],\n",
    "                                  up=[-0.0694, -0.9768, 0.2024])"
   ],
   "id": "24ecb9748b813eb7",
   "outputs": [],
   "execution_count": 10
  },
  {
   "metadata": {},
   "cell_type": "markdown",
   "source": "### **法线（Normal）估计**",
   "id": "4b7c6cd2084c9d95"
  },
  {
   "metadata": {
    "ExecuteTime": {
     "end_time": "2025-03-22T06:50:16.832193Z",
     "start_time": "2025-03-22T06:50:01.982833Z"
    }
   },
   "cell_type": "code",
   "source": [
    "downpcd.estimate_normals( # normals为法线的意思\n",
    "    search_param=o3d.geometry.KDTreeSearchParamHybrid(radius=0.1, max_nn=30)) # 以半径0.1，最多30个点为一个面来生成法线\n",
    "o3d.visualization.draw_geometries([downpcd],\n",
    "                                  zoom=0.3412,\n",
    "                                  front=[0.4257, -0.2125, -0.8795],\n",
    "                                  lookat=[2.6172, 2.0475, 1.532],\n",
    "                                  up=[-0.0694, -0.9768, 0.2024],\n",
    "                                  point_show_normal=True)"
   ],
   "id": "ecae169bec8bd274",
   "outputs": [],
   "execution_count": 11
  },
  {
   "metadata": {},
   "cell_type": "markdown",
   "source": "### 裁减（crop）点云",
   "id": "566f27e6426d5a62"
  },
  {
   "metadata": {
    "ExecuteTime": {
     "end_time": "2025-03-22T07:03:40.843193Z",
     "start_time": "2025-03-22T07:03:36.908736Z"
    }
   },
   "cell_type": "code",
   "source": [
    "# 第一步：读取文件\n",
    "demo_crop_data = o3d.data.DemoCropPointCloud()\n",
    "pcd = o3d.io.read_point_cloud(demo_crop_data.point_cloud_path)\n",
    "# 第二步；裁剪指定位置的的点，为json文件，vol就是\n",
    "vol = o3d.visualization.read_selection_polygon_volume(demo_crop_data.cropped_json_path)\n",
    "chair = vol.crop_point_cloud(pcd)\n",
    "# 第三步；显示\n",
    "o3d.visualization.draw_geometries([chair],\n",
    "                                  zoom=0.7,\n",
    "                                  front=[0.5439, -0.2333, -0.8060],\n",
    "                                  lookat=[2.4615, 2.1331, 1.338],\n",
    "                                  up=[-0.1781, -0.9708, 0.1608])"
   ],
   "id": "4876444b672e8b66",
   "outputs": [],
   "execution_count": 12
  },
  {
   "metadata": {},
   "cell_type": "markdown",
   "source": "### **绘制点云**",
   "id": "8a9809eeed150bfe"
  },
  {
   "metadata": {
    "ExecuteTime": {
     "end_time": "2025-03-22T07:16:02.086445Z",
     "start_time": "2025-03-22T07:15:53.184861Z"
    }
   },
   "cell_type": "code",
   "source": [
    "chair.paint_uniform_color([1, 0.706, 0])\n",
    "# 更改点云的颜色\n",
    "o3d.visualization.draw_geometries([chair],)"
   ],
   "id": "b13d58d17b040967",
   "outputs": [],
   "execution_count": 14
  },
  {
   "metadata": {},
   "cell_type": "markdown",
   "source": [
    "### **绘制边界体积**\n",
    "get_axis_aligned_bounding_box() 是按照轴对其包围盒\n",
    "\n",
    "get_oriented_bounding_box() 按照点云有方向的包围盒\n"
   ],
   "id": "25754cbd0f255a04"
  },
  {
   "metadata": {
    "ExecuteTime": {
     "end_time": "2025-03-22T07:17:57.566357Z",
     "start_time": "2025-03-22T07:17:41.472185Z"
    }
   },
   "cell_type": "code",
   "source": [
    "aabb = chair.get_axis_aligned_bounding_box()\n",
    "aabb.color = (1, 0, 0)\n",
    "obb = chair.get_oriented_bounding_box()\n",
    "obb.color = (0, 1, 0)\n",
    "o3d.visualization.draw_geometries([chair, aabb, obb],\n",
    "                                  zoom=0.7,\n",
    "                                  front=[0.5439, -0.2333, -0.8060],\n",
    "                                  lookat=[2.4615, 2.1331, 1.338],\n",
    "                                  up=[-0.1781, -0.9708, 0.1608])"
   ],
   "id": "de496ad1d601656b",
   "outputs": [],
   "execution_count": 15
  },
  {
   "metadata": {},
   "cell_type": "code",
   "outputs": [],
   "execution_count": null,
   "source": "# https://blog.csdn.net/qq_22822335/article/details/50930437",
   "id": "fb1294d0b085f52c"
  },
  {
   "metadata": {},
   "cell_type": "markdown",
   "source": "### **凸包（Convex Hull）**",
   "id": "c8e75287b3d36080"
  },
  {
   "metadata": {
    "ExecuteTime": {
     "end_time": "2025-03-22T07:22:50.053656Z",
     "start_time": "2025-03-22T07:22:42.496479Z"
    }
   },
   "cell_type": "code",
   "source": [
    "# 兔子点云\n",
    "bunny = o3d.data.BunnyMesh()\n",
    "mesh = o3d.io.read_triangle_mesh(bunny.path)\n",
    "mesh.compute_vertex_normals()\n",
    "\n",
    "pcl = mesh.sample_points_poisson_disk(number_of_points=2000)\n",
    "hull, _ = pcl.compute_convex_hull()\n",
    "hull_ls = o3d.geometry.LineSet.create_from_triangle_mesh(hull)\n",
    "hull_ls.paint_uniform_color((1, 0, 0))\n",
    "o3d.visualization.draw_geometries([pcl, hull_ls])"
   ],
   "id": "c9fd888ae969299e",
   "outputs": [],
   "execution_count": 16
  },
  {
   "metadata": {},
   "cell_type": "code",
   "outputs": [],
   "execution_count": null,
   "source": "# 凸包的作用与原理 https://blog.csdn.net/HouszChina/article/details/79251474",
   "id": "83aec2217011521c"
  },
  {
   "metadata": {},
   "cell_type": "code",
   "outputs": [],
   "execution_count": null,
   "source": "# https://blog.csdn.net/QLeelq/article/details/122136481 这篇文章涉及后续所有内容",
   "id": "5752cf46381359b0"
  }
 ],
 "metadata": {
  "kernelspec": {
   "display_name": "Python 3",
   "language": "python",
   "name": "python3"
  },
  "language_info": {
   "codemirror_mode": {
    "name": "ipython",
    "version": 2
   },
   "file_extension": ".py",
   "mimetype": "text/x-python",
   "name": "python",
   "nbconvert_exporter": "python",
   "pygments_lexer": "ipython2",
   "version": "2.7.6"
  }
 },
 "nbformat": 4,
 "nbformat_minor": 5
}
